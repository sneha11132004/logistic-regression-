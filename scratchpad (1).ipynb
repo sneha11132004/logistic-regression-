{
  "cells": [
    {
      "cell_type": "markdown",
      "source": [
        "logistic regression"
      ],
      "metadata": {
        "id": "ZP_BmCdApgI7"
      }
    },
    {
      "cell_type": "markdown",
      "source": [
        "1.What is Simple Linear Regression (SLR)? Explain its purpose.\n",
        "\n",
        "-Simple Linear Regression (SLR) is a statistical method used to model the relationship between two variables: one independent variable (X) and one dependent variable (Y).\n",
        "Purpose:\n",
        "\n",
        "Predicting the dependent variable (Y) based on the independent variable (X).\n",
        "\n",
        "Quantifying the relationship between X and Y using a straight line.\n"
      ],
      "metadata": {
        "id": "oB5QJ5fkpp58"
      }
    },
    {
      "cell_type": "markdown",
      "source": [
        "2.What are the key assumptions of Simple Linear Regression?\n",
        "\n",
        "-1. Linearity: The relationship between the independent (X) and dependent (Y) variable is linear.\n",
        "2. Independence: The residuals (errors) are independent of each other.\n",
        "3. Homoscedasticity: The variance of residuals is constant across all levels of X.\n",
        "4. Normality: The residuals are normally distributed.\n",
        "5. No multicollinearity: (Not relevant for simple regression, but in general) X should not be correlated with other predictors.\n",
        "\n"
      ],
      "metadata": {
        "id": "r9bDz1ojq5Ft"
      }
    },
    {
      "cell_type": "markdown",
      "source": [
        "3.Write the mathematical equation for a simple linear regression model and\n",
        "explain each term.\n",
        "\n",
        "-Y = β₀ + β₁X + ε\n",
        "Y = Dependent variable (the outcome)\n",
        "X = Independent variable (the predictor)\n",
        "β₀ = Intercept (value of Y when X = 0)\n",
        "β₁ = Slope (change in Y for one unit change in X)\n",
        "ε = Error term (difference between observed and predicted Y)\n",
        "\n"
      ],
      "metadata": {
        "id": "JB7zoTdAtPhD"
      }
    },
    {
      "cell_type": "markdown",
      "source": [
        "4.: Provide a real-world example where simple linear regression can be\n",
        "applied.\n",
        "\n",
        "-Example: Predicting a person’s weight (Y) based on their height (X).\n",
        "Here, height is the independent variable, and weight is the dependent variable. The regression line shows how weight tends to increase as height increases.\n"
      ],
      "metadata": {
        "id": "TckEUd82tZ4k"
      }
    },
    {
      "cell_type": "markdown",
      "source": [
        "5.What is the method of least squares in linear regression?\n",
        "\n",
        "-The method of least squares is a technique used to find the best-fitting line in linear regression by minimizing the sum of the squared differences between the observed values and the predicted values.\n",
        "In other words, it finds the line  that makes the total squared errors  as small as possible.\n"
      ],
      "metadata": {
        "id": "qXSXN2kktm2h"
      }
    },
    {
      "cell_type": "markdown",
      "source": [
        "6.What is Logistic Regression? How does it differ from Linear Regression?\n",
        "\n",
        "-Logistic Regression is a statistical model used for classification problems, where the dependent variable is categorical (e.g., Yes/No, 0/1). It predicts the probability that an observation belongs to a particular class using the sigmoid (S-shaped) function.\n",
        "\n",
        "Difference from Linear Regression:\n",
        "\n",
        "Linear Regression predicts continuous outcomes.\n",
        "\n",
        "Logistic Regression predicts categorical (binary) outcomes.\n",
        "\n",
        "Linear uses a straight line; Logistic uses a logistic curve to map predictions between 0 and 1.\n"
      ],
      "metadata": {
        "id": "Kh66Kv5ruA4y"
      }
    },
    {
      "cell_type": "markdown",
      "source": [
        "7.Name and briefly describe three common evaluation metrics for regression\n",
        "models?\n",
        "\n",
        "-1. Mean Absolute Error (MAE): Average of the absolute differences between predicted and actual values.\n",
        "2. Mean Squared Error (MSE): Average of the squared differences between predicted and actual values — penalizes large errors.\n",
        "3. Root Mean Squared Error (RMSE): Square root of MSE; gives error in the same units as the target variable.\n"
      ],
      "metadata": {
        "id": "zP6fH0yeuImr"
      }
    },
    {
      "cell_type": "markdown",
      "source": [
        "8.What is the purpose of the R-squared metric in regression analysis?\n",
        "\n",
        "-R-squared (R²) measures how well the regression model explains the variability of the dependent variable.\n",
        "It ranges from 0 to 1 —\n",
        "\n",
        "R² = 1: Perfect fit (model explains all variability)\n",
        "\n",
        "R² = 0: Model explains none of the variability.\n",
        "It indicates the goodness of fit of the model.\n"
      ],
      "metadata": {
        "id": "WH3OiE7duR5J"
      }
    },
    {
      "cell_type": "code",
      "execution_count": 1,
      "metadata": {
        "colab": {
          "base_uri": "https://localhost:8080/"
        },
        "id": "lIYdn1woOS1n",
        "outputId": "89e31c28-eb90-4b4b-e7b4-3bd192d6a4d3"
      },
      "outputs": [
        {
          "output_type": "stream",
          "name": "stdout",
          "text": [
            "Slope (β1): 0.6\n",
            "Intercept (β0): 2.2\n"
          ]
        }
      ],
      "source": [
        "#9.Write Python code to fit a simple linear regression model using scikit-learn\n",
        "#and print the slope and intercept.\n",
        "#(Include your Python code and output in the code box below.)\n",
        "\n",
        "# Import necessary libraries\n",
        "import numpy as np\n",
        "from sklearn.linear_model import LinearRegression\n",
        "\n",
        "# Example data\n",
        "X = np.array([1, 2, 3, 4, 5]).reshape(-1, 1)   # Independent variable\n",
        "y = np.array([2, 4, 5, 4, 5])                  # Dependent variable\n",
        "\n",
        "# Create and fit the model\n",
        "model = LinearRegression()\n",
        "model.fit(X, y)\n",
        "\n",
        "# Print slope (coefficient) and intercept\n",
        "print(\"Slope (β1):\", model.coef_[0])\n",
        "print(\"Intercept (β0):\", model.intercept_)"
      ]
    },
    {
      "cell_type": "markdown",
      "source": [
        "10.How do you interpret the coefficients in a simple linear regression model?\n",
        "\n",
        "-The intercept (β₀) represents the predicted value of Y when X = 0.\n",
        "The slope (β₁) represents the change in Y for a one-unit increase in X.\n",
        "If β₁ is positive → Y increases as X increases.\n",
        "If β₁ is negative → Y decreases as X increases."
      ],
      "metadata": {
        "id": "x0ohKKbgvA0y"
      }
    }
  ],
  "metadata": {
    "colab": {
      "name": "scratchpad",
      "provenance": []
    },
    "kernelspec": {
      "display_name": "Python 3",
      "name": "python3"
    }
  },
  "nbformat": 4,
  "nbformat_minor": 0
}